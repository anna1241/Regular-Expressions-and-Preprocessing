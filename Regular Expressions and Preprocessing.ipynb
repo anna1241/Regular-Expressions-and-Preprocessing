{
  "nbformat": 4,
  "nbformat_minor": 0,
  "metadata": {
    "colab": {
      "provenance": []
    },
    "kernelspec": {
      "name": "python3",
      "display_name": "Python 3"
    },
    "language_info": {
      "name": "python"
    }
  },
  "cells": [
    {
      "cell_type": "markdown",
      "source": [
        "# **Regular Expressions and Preprocessing**"
      ],
      "metadata": {
        "id": "F0tyA3UgfhFq"
      }
    },
    {
      "cell_type": "code",
      "execution_count": null,
      "metadata": {
        "colab": {
          "base_uri": "https://localhost:8080/"
        },
        "id": "yCW-a29JeGvX",
        "outputId": "32eb6ede-2d32-410a-dece-000080d1e517"
      },
      "outputs": [
        {
          "output_type": "stream",
          "name": "stdout",
          "text": [
            "Requirement already satisfied: nltk in /usr/local/lib/python3.10/dist-packages (3.8.1)\n",
            "Requirement already satisfied: click in /usr/local/lib/python3.10/dist-packages (from nltk) (8.1.7)\n",
            "Requirement already satisfied: joblib in /usr/local/lib/python3.10/dist-packages (from nltk) (1.3.2)\n",
            "Requirement already satisfied: regex>=2021.8.3 in /usr/local/lib/python3.10/dist-packages (from nltk) (2023.12.25)\n",
            "Requirement already satisfied: tqdm in /usr/local/lib/python3.10/dist-packages (from nltk) (4.66.1)\n"
          ]
        }
      ],
      "source": [
        "pip install --upgrade nltk"
      ]
    },
    {
      "cell_type": "code",
      "source": [
        "pip install beautifulsoup4"
      ],
      "metadata": {
        "colab": {
          "base_uri": "https://localhost:8080/"
        },
        "id": "8BEss1bKfSrx",
        "outputId": "65c97087-49eb-4366-ab39-e021b65da4e6"
      },
      "execution_count": null,
      "outputs": [
        {
          "output_type": "stream",
          "name": "stdout",
          "text": [
            "Requirement already satisfied: beautifulsoup4 in /usr/local/lib/python3.10/dist-packages (4.12.3)\n",
            "Requirement already satisfied: soupsieve>1.2 in /usr/local/lib/python3.10/dist-packages (from beautifulsoup4) (2.5)\n"
          ]
        }
      ]
    },
    {
      "cell_type": "markdown",
      "source": [
        "# Question 1"
      ],
      "metadata": {
        "id": "50FrkN9Jfc16"
      }
    },
    {
      "cell_type": "code",
      "source": [
        "import nltk, re, pprint"
      ],
      "metadata": {
        "id": "mSFW8wkRe_MA"
      },
      "execution_count": null,
      "outputs": []
    },
    {
      "cell_type": "markdown",
      "source": [
        "a) Words that are typical, containing one or more letters in either uppercase or lowercase.\n",
        "\n",
        "b) Words with titles, where the first letter is uppercase.\n",
        "\n",
        "c) Words that starts with 'p,' ends with 't,' and have 0 to 2 vowel(s) in between. For example, 'pt,' 'pet,' 'poet,' etc.\n",
        "\n",
        "d) Real numbers, like integers and fractions.\n",
        "\n",
        "e) Sequences of consonant-vowel-consonant patterns occurring zero or more times.\n",
        "\n",
        "f) Alphanumeric characters or non-whitespace characters, suitable for tokenization.\n"
      ],
      "metadata": {
        "id": "5DcSEOATiuDo"
      }
    },
    {
      "cell_type": "code",
      "source": [
        "print(nltk.re_show(r'[a-zA-Z]+',\"The apple is red.\"))\n",
        "print(nltk.re_show(r'[A-Z][a-z]*',\"The Dog is barking.\"))\n",
        "print(nltk.re_show(r'p[aeiou]{,2}t',\"I have a pet cat.\"))\n",
        "print(nltk.re_show(r'\\d+(\\.\\d+)?', \"I have 123.45 dollars.\"))\n",
        "print(nltk.re_show(r'([^aeiou][aeiou][^aeiou])*',\"The lion is a wild animal.\"))\n",
        "print(nltk.re_show(r'\\w+|[^\\w\\s]+',\"Hello, how are you?\"))"
      ],
      "metadata": {
        "colab": {
          "base_uri": "https://localhost:8080/"
        },
        "id": "AWjv0TlwgMqw",
        "outputId": "c1178d8c-7e7a-4483-be97-f1f9c285dcab"
      },
      "execution_count": null,
      "outputs": [
        {
          "output_type": "stream",
          "name": "stdout",
          "text": [
            "{The} {apple} {is} {red}.\n",
            "None\n",
            "{The} {Dog} is barking.\n",
            "None\n",
            "I have a {pet} cat.\n",
            "None\n",
            "I have {123.45} dollars.\n",
            "None\n",
            "{}T{he }{}l{}i{}o{}n{ is a wil}{}d{ an}{}i{mal}{}.{}\n",
            "None\n",
            "{Hello}{,} {how} {are} {you}{?}\n",
            "None\n"
          ]
        }
      ]
    },
    {
      "cell_type": "markdown",
      "source": [
        "# Question 2"
      ],
      "metadata": {
        "id": "79N8FDslk9Ux"
      }
    },
    {
      "cell_type": "markdown",
      "source": [
        "a) ^(a|an|the)$\n",
        "\n",
        "b) ^(\\d+[\\+\\*])*[\\d]+$"
      ],
      "metadata": {
        "id": "rn6C-X8woRaR"
      }
    },
    {
      "cell_type": "code",
      "source": [
        "test_string_a = \"This is a red apple. It is an orange. The apple is green.\"\n",
        "print(nltk.re_show(r'\\b(a|an|the)\\b', test_string_a))\n",
        "test_string_b =\"2+5 3*7-3 6+7-8-9*5\"\n",
        "print(nltk.re_show(r'\\b(\\d+[\\+\\*])*\\d+\\b', test_string_b))"
      ],
      "metadata": {
        "colab": {
          "base_uri": "https://localhost:8080/"
        },
        "id": "OJFSDnKRk_5F",
        "outputId": "5ee7dc89-7ce9-4b82-d15f-b715aaac3a99"
      },
      "execution_count": null,
      "outputs": [
        {
          "output_type": "stream",
          "name": "stdout",
          "text": [
            "This is {a} red apple. It is {an} orange. The apple is green.\n",
            "None\n",
            "{2+5} {3*7}-{3} {6+7}-{8}-{9*5}\n",
            "None\n"
          ]
        }
      ]
    },
    {
      "cell_type": "markdown",
      "source": [
        "# Question 3"
      ],
      "metadata": {
        "id": "leTx75K6pAgn"
      }
    },
    {
      "cell_type": "code",
      "source": [
        "from urllib import request\n",
        "from bs4 import BeautifulSoup\n",
        "def content(URL):\n",
        "    html = request.urlopen(URL).read().decode('utf8')\n",
        "    raw = BeautifulSoup(html, 'html.parser').get_text()\n",
        "    return raw\n",
        "\n",
        "url = 'https://www.csail.mit.edu/people/'\n",
        "text = content(url)\n",
        "print(text)"
      ],
      "metadata": {
        "colab": {
          "base_uri": "https://localhost:8080/"
        },
        "id": "5nDMFDIepxab",
        "outputId": "e313addb-3b2d-46f1-eb76-87f8d7dd09e5"
      },
      "execution_count": null,
      "outputs": [
        {
          "output_type": "stream",
          "name": "stdout",
          "text": [
            "\n",
            "\n",
            "\n",
            "\n",
            "\n",
            "\n",
            "\n",
            "\n",
            "\n",
            "\n",
            "\n",
            "\n",
            "People | MIT CSAIL\n",
            "\n",
            "\n",
            "\n",
            "\n",
            "\n",
            "\n",
            "    Skip to main content\n",
            "  \n",
            "\n",
            "\n",
            "\n",
            "\n",
            "\n",
            "\n",
            "\n",
            "\n",
            "\n",
            "For Students\n",
            "\n",
            "\n",
            "For Industry\n",
            "\n",
            "\n",
            "For Members\n",
            "\n",
            "\n",
            "Accessibility\n",
            "\n",
            "\n",
            "Login\n",
            "\n",
            "\n",
            "\n",
            "\n",
            "\n",
            "\n",
            "\n",
            "\n",
            "\n",
            "\n",
            "\n",
            "\n",
            "\n",
            "\n",
            "\n",
            "\n",
            "\n",
            "\n",
            "\n",
            "\n",
            "\n",
            "\n",
            "\n",
            "\n",
            "\n",
            "MIT CSAIL\n",
            "\n",
            "\n",
            "\n",
            "\n",
            "\n",
            "Research\n",
            "\n",
            "\n",
            "People\n",
            "\n",
            "\n",
            "News\n",
            "\n",
            "\n",
            "Events\n",
            "\n",
            "\n",
            "Symposia\n",
            "\n",
            "\n",
            "About\n",
            "\n",
            "\n",
            "\n",
            "\n",
            "\n",
            "\n",
            "\n",
            "\n",
            "\n",
            "\n",
            "\n",
            "\n",
            "\n",
            "\n",
            "MIT LOGO\n",
            "Created with Sketch.\n",
            "\n",
            "\n",
            "\n",
            "\n",
            "\n",
            "\n",
            "\n",
            "\n",
            "\n",
            "\n",
            "\n",
            "\n",
            "\n",
            "\n",
            "\n",
            "\n",
            "\n",
            "\n",
            "\n",
            "\n",
            "\n",
            "\n",
            "\n",
            "\n",
            "Research\n",
            "\n",
            "\n",
            "People\n",
            "\n",
            "\n",
            "News\n",
            "\n",
            "\n",
            "Events\n",
            "\n",
            "\n",
            "Symposia\n",
            "\n",
            "\n",
            "About\n",
            "\n",
            "\n",
            "\n",
            "\n",
            "\n",
            "\n",
            "\n",
            "\n",
            "For Students\n",
            "\n",
            "\n",
            "For Industry\n",
            "\n",
            "\n",
            "For Members\n",
            "\n",
            "\n",
            "Accessibility\n",
            "\n",
            "\n",
            "Login\n",
            "\n",
            "\n",
            "\n",
            "\n",
            "\n",
            "\n",
            "\n",
            "\n",
            "Contact\n",
            "\n",
            "\n",
            "Press Requests\n",
            "\n",
            "\n",
            "Accessibility\n",
            "\n",
            "\n",
            "\n",
            "\n",
            "\n",
            "\n",
            "\n",
            "\n",
            "\n",
            "\n",
            "\n",
            "Search\n",
            "\n",
            "\n",
            "\n",
            "\n",
            "\n",
            "\n",
            "\n",
            "\n",
            "\n",
            "\n",
            "\n",
            "\n",
            "\n",
            "\n",
            "\n",
            "\n",
            "\n",
            "\n",
            "\n",
            "\n",
            "\n",
            "\n",
            "\n",
            "\n",
            "\n",
            "\n",
            "\n",
            "\n",
            "\n",
            "\n",
            "MIT CSAIL\n",
            "\n",
            "\n",
            "Massachusetts Institute of Technology\n",
            "Computer Science & Artificial Intelligence Laboratory\n",
            "32 Vassar St, Cambridge MA 02139\n",
            "\n",
            "\n",
            "\n",
            "\n",
            "Contact\n",
            "\n",
            "\n",
            "Press Requests\n",
            "\n",
            "\n",
            "Accessibility\n",
            "\n",
            "\n",
            "\n",
            "\n",
            "\n",
            "\n",
            "\n",
            "\n",
            "\n",
            "\n",
            "\n",
            "\n",
            "\n",
            "\n",
            "\n",
            "\n",
            "\n",
            "\n",
            "\n",
            "\n",
            "\n",
            "\n",
            "\n",
            "\n",
            "\n"
          ]
        }
      ]
    },
    {
      "cell_type": "markdown",
      "source": [
        "# Question 4"
      ],
      "metadata": {
        "id": "Ye2f75yjrgwm"
      }
    },
    {
      "cell_type": "code",
      "source": [
        "import nltk\n",
        "nltk.download('punkt')"
      ],
      "metadata": {
        "colab": {
          "base_uri": "https://localhost:8080/"
        },
        "id": "YSEud0qSj3Nj",
        "outputId": "2eb141a3-89ff-4759-928d-f995bc3ca9fa"
      },
      "execution_count": null,
      "outputs": [
        {
          "output_type": "stream",
          "name": "stderr",
          "text": [
            "[nltk_data] Downloading package punkt to /root/nltk_data...\n",
            "[nltk_data]   Unzipping tokenizers/punkt.zip.\n"
          ]
        },
        {
          "output_type": "execute_result",
          "data": {
            "text/plain": [
              "True"
            ]
          },
          "metadata": {},
          "execution_count": 7
        }
      ]
    },
    {
      "cell_type": "code",
      "source": [
        "from nltk.tokenize import word_tokenize\n",
        "from urllib import request\n",
        "from bs4 import BeautifulSoup\n",
        "\n",
        "def content(URL):\n",
        "    html = request.urlopen(URL).read().decode('utf8')\n",
        "    raw = BeautifulSoup(html, 'html.parser').get_text()\n",
        "    return raw\n",
        "\n",
        "url = 'https://www.dsu.edu.pk/contact-us/'\n",
        "text = content(url)\n",
        "tokens = word_tokenize(text)\n",
        "\n",
        "numbers = re.findall(r'(\\(?\\d{3}\\)?\\s?-?\\d{3}\\s?-?\\d{4})', text)\n",
        "\n",
        "email = re.findall(r'\\b[A-Za-z0-9._%+-]+@[A-Za-z0-9.-]+\\.[A-Z|a-z]{2,}\\b', text)\n",
        "\n",
        "print(\"Phone Numbers:\", numbers)\n",
        "print(\"Email Addresses:\", email)\n"
      ],
      "metadata": {
        "colab": {
          "base_uri": "https://localhost:8080/"
        },
        "id": "okKA2KtqrkbU",
        "outputId": "1fc1a172-0547-4e44-d2cb-3380ed710884"
      },
      "execution_count": null,
      "outputs": [
        {
          "output_type": "stream",
          "name": "stdout",
          "text": [
            "Phone Numbers: ['021 3524485', '324-2444595', '021-3524487', '345-2479903', '021-3524486', '021-3524485', '307-8594065', '021-3524486', '323-2411025', '021-3524487', '306-3048354', '021-3524485', '324-2444595', '345-2212938', '021-3524485', '324-2444595', '021-3524485', '302-0241679', '021-3524485', '021-3524487', '021-3524485', '300-2595782', '021-3524486', '334-2931646', '021-3524485', '021-3524485', '021-3524485', '021-3524485', '344-2412896', '021-3524485', '021-3524485', '021-3524485', '021-3524486', '021-3524486', '021-3524485', '321-2162719', '021-3524487', '021-3524486', '321-3680021', '021-3524485', '340-4864835', '021-3524486', '346-3244745', '021-3524487', '304-2274288', '021-3524485', '322-2539007', '021-3524485', '021-3524485', '021-3524487', '021-3585860']\n",
            "Email Addresses: ['vc@dsu.edu.pk', 'ahmedsaeedminhas81@dsu.edu.pk', 'pvc@dsu.edu.pk', 'dr.asifiqqbal@dsu.edu.pk', 'registrar@dsu.edu.pk', 'dean.eas@dsu.edu.pk', 'dean.mss@dsu.edu.pk', 'saad.asif@dsu.edu.pk', 'rabia.mumtaz@dsu.edu.pk', 'a.registrar.acad@dsu.edu.pk', 'hr@dsu.edu.pk', 'ahmad.hussain@dsu.edu.pk', 'ahmad.hussain@dsu.edu.pk', 'noor.ali@dsu.edu.pk', 'fazal.abbas@dsu.edu.pk', 'sobia.iqbal@dsu.edu.pk', 'razi@dsu.edu.pk', 'rubina.israr@dsu.edu.pk', 'sidra.ahmed@dsu.edu.pk', 'm.zaman@dsu.edu.pk', 'johar@dsu.edu.pk', 'pdc@dsu.edu.pk', 'saima@dsu.edu.pk', 'tehseen.azhar@dsu.edu.pk', 'subeika.rizvi@dsu.edu.pk', 'asadullah@dsu.edu.pk', 'info.ceid@dsu.edu.pk', 'saima@dsu.edu.pk', 'aso@dsu.edu.pk', 'j.khan@dsu.edu.pk', 'ahmed.faseeh@dsu.edu.pk', 'moin.atiq@dsu.edu.pk', 'director.it@dsu.edu.pk', 'hasan.raza@dsu.edu.pk', 'a.mit.sys@dsu.edu.pk', 'engr.riaz@dsu.edu.pk']\n"
          ]
        }
      ]
    },
    {
      "cell_type": "markdown",
      "source": [
        "# Question 5"
      ],
      "metadata": {
        "id": "q7Hn_8gZk_0F"
      }
    },
    {
      "cell_type": "code",
      "source": [
        "from nltk.stem import PorterStemmer, LancasterStemmer\n",
        "\n",
        "text = word_tokenize(\"Programmers program with programming languages.\")\n",
        "\n",
        "ps = PorterStemmer()\n",
        "ls = LancasterStemmer()\n",
        "\n",
        "ps_words = [ps.stem(word) for word in text]\n",
        "ls_words = [ls.stem(word) for word in text]\n",
        "\n",
        "print(\"Original Text:\", text)\n",
        "print(\"Porter Stemmer Normalized Text:\", ps_words)\n",
        "print(\"Lancaster Stemmer Normalized Text:\", ls_words)\n"
      ],
      "metadata": {
        "colab": {
          "base_uri": "https://localhost:8080/"
        },
        "id": "tck6e8kHlEmx",
        "outputId": "f80fd8d3-4103-4593-85aa-5f04c2ef60a8"
      },
      "execution_count": null,
      "outputs": [
        {
          "output_type": "stream",
          "name": "stdout",
          "text": [
            "Original Text: ['Programmers', 'program', 'with', 'programming', 'languages', '.']\n",
            "Porter Stemmer Normalized Text: ['programm', 'program', 'with', 'program', 'languag', '.']\n",
            "Lancaster Stemmer Normalized Text: ['program', 'program', 'with', 'program', 'langu', '.']\n"
          ]
        }
      ]
    },
    {
      "cell_type": "markdown",
      "source": [
        "# Question 6"
      ],
      "metadata": {
        "id": "BOvbEItjEmy_"
      }
    },
    {
      "cell_type": "code",
      "source": [
        "import re\n",
        "random_text = \"Pila Forfeited you engrossed but 1kometimes explained. Another 1kacokaco1 as studied it to evident. Merry sense 9given he be arisepila. Conduct at an replied removal an amongst. Remainingzalima 0determine few her two cordially Zalima admitting old. Sometimes ctra*nger his pisdsdla ourselves her co*la depending you boy. Eat discretion cultivated possession far comparison projection pila considered. And few fat interested discovered inquietude insensible unsatiable increasing zalima eat.\""
      ],
      "metadata": {
        "id": "zzhgEHLdRrjw"
      },
      "execution_count": null,
      "outputs": []
    },
    {
      "cell_type": "markdown",
      "source": [
        "First word"
      ],
      "metadata": {
        "id": "613taRFwSD-n"
      }
    },
    {
      "cell_type": "code",
      "source": [
        "first_word_exp = r'\\b[Zz][a-z]*a\\b'\n",
        "first_word_count = len(re.findall(first_word_exp, random_text))\n",
        "first_word = re.search(first_word_exp, random_text).group()\n",
        "\n",
        "print(\"Regular expression:\", first_word_exp)\n",
        "print(\"Frequency (count):\", first_word_count)\n",
        "print(\"First word:\", first_word)"
      ],
      "metadata": {
        "colab": {
          "base_uri": "https://localhost:8080/"
        },
        "id": "tKW7cssdSQiG",
        "outputId": "4ef9efdd-9f91-4cf0-971c-476349275a52"
      },
      "execution_count": null,
      "outputs": [
        {
          "output_type": "stream",
          "name": "stdout",
          "text": [
            "Regular expression: \\b[Zz][a-z]*a\\b\n",
            "Frequency (count): 2\n",
            "First word: Zalima\n"
          ]
        }
      ]
    },
    {
      "cell_type": "markdown",
      "source": [
        "Second word"
      ],
      "metadata": {
        "id": "Z0Iig6hOTG7q"
      }
    },
    {
      "cell_type": "code",
      "source": [
        "second_word_exp = r'\\b\\d+k[a-z]*\\d\\b'\n",
        "second_word_extracted = re.search(second_word_exp, random_text).group()\n",
        "actual_second_word = second_word_extracted[3:-3]\n",
        "\n",
        "print(\"Regular expression:\", second_word_exp)\n",
        "print(\"Extracted second word:\", second_word_extracted)\n",
        "print(\"Actual second word:\", actual_second_word)"
      ],
      "metadata": {
        "colab": {
          "base_uri": "https://localhost:8080/"
        },
        "id": "vyAKuOwITGgH",
        "outputId": "8ae56d65-249b-4ef4-afb6-b84d1db489ce"
      },
      "execution_count": null,
      "outputs": [
        {
          "output_type": "stream",
          "name": "stdout",
          "text": [
            "Regular expression: \\b\\d+k[a-z]*\\d\\b\n",
            "Extracted second word: 1kacokaco1\n",
            "Actual second word: coka\n"
          ]
        }
      ]
    },
    {
      "cell_type": "markdown",
      "source": [
        "Third word"
      ],
      "metadata": {
        "id": "RmX1yxNJU4zy"
      }
    },
    {
      "cell_type": "code",
      "source": [
        "third_word_exp = r'\\bc[a-z]*\\*[a-z]+a\\b'\n",
        "third_word_match = re.search(third_word_exp, random_text)\n",
        "third_word_extracted = third_word_match.group() if third_word_match else None\n",
        "actual_third_word = third_word_extracted.replace('*', '') if third_word_extracted else None\n",
        "\n",
        "print(\"Corrected regular expression:\", third_word_exp)\n",
        "print(\"Extracted third word:\", third_word_extracted)\n",
        "print(\"Actual third word:\", actual_third_word)"
      ],
      "metadata": {
        "colab": {
          "base_uri": "https://localhost:8080/"
        },
        "id": "Io66NO2RULic",
        "outputId": "651630d4-1b96-4b2c-e5e9-ec3f56378529"
      },
      "execution_count": null,
      "outputs": [
        {
          "output_type": "stream",
          "name": "stdout",
          "text": [
            "Corrected regular expression: \\bc[a-z]*\\*[a-z]+a\\b\n",
            "Extracted third word: co*la\n",
            "Actual third word: cola\n"
          ]
        }
      ]
    },
    {
      "cell_type": "markdown",
      "source": [
        "Forth word"
      ],
      "metadata": {
        "id": "yJZmqoMGVEK7"
      }
    },
    {
      "cell_type": "code",
      "source": [
        "fourth_word_exp = r'\\b[Pp][a-z]{2}a\\b'\n",
        "fourth_word_count = len(re.findall(fourth_word_exp, random_text))\n",
        "fourth_word = re.search(fourth_word_exp, random_text).group()\n",
        "\n",
        "print(\"Regular expression:\", fourth_word_exp)\n",
        "print(\"Frequency (count):\", fourth_word_count)\n",
        "print(\"Extracted fourth word:\", fourth_word)"
      ],
      "metadata": {
        "colab": {
          "base_uri": "https://localhost:8080/"
        },
        "id": "e8dx8K6WU29a",
        "outputId": "963dce1a-c5ad-4e81-836c-6e9e1a5fce3a"
      },
      "execution_count": null,
      "outputs": [
        {
          "output_type": "stream",
          "name": "stdout",
          "text": [
            "Regular expression: \\b[Pp][a-z]{2}a\\b\n",
            "Frequency (count): 2\n",
            "Extracted fourth word: Pila\n"
          ]
        }
      ]
    },
    {
      "cell_type": "markdown",
      "source": [
        "Fifth word"
      ],
      "metadata": {
        "id": "ldlM_WdnVXqG"
      }
    },
    {
      "cell_type": "code",
      "source": [
        "fifth_word = \"de\"\n",
        "complete_message = f\"{first_word} {actual_second_word} {actual_third_word} {fourth_word} {fifth_word}\"\n",
        "print(\"5. Complete five-word message:\", complete_message)"
      ],
      "metadata": {
        "colab": {
          "base_uri": "https://localhost:8080/"
        },
        "id": "7qQQvjT2EmI3",
        "outputId": "975da5bc-412d-48c8-f75d-2cbc3c6214a8"
      },
      "execution_count": null,
      "outputs": [
        {
          "output_type": "stream",
          "name": "stdout",
          "text": [
            "5. Complete five-word message: Zalima coka cola Pila de\n"
          ]
        }
      ]
    }
  ]
}